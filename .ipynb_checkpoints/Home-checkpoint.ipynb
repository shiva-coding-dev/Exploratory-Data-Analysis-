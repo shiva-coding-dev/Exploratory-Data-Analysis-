{
 "cells": [
  {
   "cell_type": "markdown",
   "id": "a0420fb2-c90d-4998-be83-1c9531794774",
   "metadata": {},
   "source": [
    "# Welcome to Coding Cake"
   ]
  },
  {
   "cell_type": "code",
   "execution_count": 1,
   "id": "317ef1e1-eafb-4b65-9014-577dabdc316f",
   "metadata": {},
   "outputs": [
    {
     "name": "stdout",
     "output_type": "stream",
     "text": [
      "Hello Coding Cake \n"
     ]
    }
   ],
   "source": [
    "print(\"Hello Coding Cake \")"
   ]
  },
  {
   "cell_type": "code",
   "execution_count": null,
   "id": "28867d38-0116-4917-9ef9-24b0825c447b",
   "metadata": {},
   "outputs": [],
   "source": []
  }
 ],
 "metadata": {
  "kernelspec": {
   "display_name": "Python 3 (ipykernel)",
   "language": "python",
   "name": "python3"
  },
  "language_info": {
   "codemirror_mode": {
    "name": "ipython",
    "version": 3
   },
   "file_extension": ".py",
   "mimetype": "text/x-python",
   "name": "python",
   "nbconvert_exporter": "python",
   "pygments_lexer": "ipython3",
   "version": "3.13.3"
  }
 },
 "nbformat": 4,
 "nbformat_minor": 5
}
