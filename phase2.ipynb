{
 "cells": [
  {
   "cell_type": "markdown",
   "metadata": {},
   "source": [
    "### Numpy Array Operations "
   ]
  },
  {
   "cell_type": "code",
   "execution_count": 1,
   "metadata": {},
   "outputs": [
    {
     "name": "stdout",
     "output_type": "stream",
     "text": [
      "2.3.0\n"
     ]
    }
   ],
   "source": [
    "import numpy as np\n",
    "print(np.__version__)"
   ]
  },
  {
   "cell_type": "code",
   "execution_count": 6,
   "metadata": {},
   "outputs": [
    {
     "name": "stdout",
     "output_type": "stream",
     "text": [
      "Basic Slicing : [3 4 5 6 7]\n",
      "With Steps : [2 4 6 8]\n",
      "Negative Indexing : [8]\n"
     ]
    }
   ],
   "source": [
    "arr = np.array([1,2,3,4,5,6,7,8,9])\n",
    "print(\"Basic Slicing :\" , arr[2:7])\n",
    "print(\"With Steps :\",arr[1:8:2])\n",
    "print(\"Negative Indexing :\",arr[-2:-1])\n"
   ]
  },
  {
   "cell_type": "markdown",
   "metadata": {},
   "source": [
    "### Same operations for 2D array "
   ]
  },
  {
   "cell_type": "code",
   "execution_count": 16,
   "metadata": {},
   "outputs": [
    {
     "name": "stdout",
     "output_type": "stream",
     "text": [
      "Sepcific element: 5\n",
      "Entire Row : [1 2 3]\n",
      "Entire Coloumn  : [2 5 8]\n"
     ]
    }
   ],
   "source": [
    "arr_2d = np.array([[1,2,3], [4,5,6], [7,8,9]])\n",
    "print(\"Sepcific element:\",arr_2d[1][1])\n",
    "print(\"Entire Row :\",arr_2d[0])\n",
    "print(\"Entire Coloumn  :\",arr_2d[:,1])"
   ]
  },
  {
   "cell_type": "markdown",
   "metadata": {},
   "source": [
    "### Sorting of the array "
   ]
  },
  {
   "cell_type": "code",
   "execution_count": 21,
   "metadata": {},
   "outputs": [
    {
     "name": "stdout",
     "output_type": "stream",
     "text": [
      "Sorted array:  [ 1  2  3  4  5  6  7  8 12 34 54]\n"
     ]
    }
   ],
   "source": [
    "unsorted_arr = np.array([1,2,8,3,6,5,7,12,4,54,34])\n",
    "print(\"Sorted array: \", np.sort(unsorted_arr))\n",
    "\n"
   ]
  },
  {
   "cell_type": "code",
   "execution_count": 23,
   "metadata": {},
   "outputs": [
    {
     "name": "stdout",
     "output_type": "stream",
     "text": [
      "The Sorted 2d array by coloumn: [[1 1]\n",
      " [2 2]\n",
      " [3 3]]\n",
      "The Sorted 2d array by row: [[1 3]\n",
      " [2 3]\n",
      " [1 2]]\n"
     ]
    }
   ],
   "source": [
    "arr2d = np.array([[3,1] ,[2,3],[1,2]])\n",
    "print(\"The Sorted 2d array by coloumn:\", np.sort(arr2d , axis = 0))\n",
    "print(\"The Sorted 2d array by row:\", np.sort(arr2d , axis = 1))"
   ]
  },
  {
   "cell_type": "markdown",
   "metadata": {},
   "source": [
    "### Filtering the ARRAY "
   ]
  },
  {
   "cell_type": "code",
   "execution_count": 26,
   "metadata": {},
   "outputs": [
    {
     "name": "stdout",
     "output_type": "stream",
     "text": [
      "[ 2  4  6  8 10]\n"
     ]
    }
   ],
   "source": [
    "numbers = np.arange(1,11)\n",
    "even_Numbers = numbers[numbers%2 == 0]\n",
    "print(even_Numbers)\n"
   ]
  },
  {
   "cell_type": "markdown",
   "metadata": {},
   "source": [
    "### Filter with  mask"
   ]
  },
  {
   "cell_type": "code",
   "execution_count": 27,
   "metadata": {},
   "outputs": [
    {
     "name": "stdout",
     "output_type": "stream",
     "text": [
      "[ 6  7  8  9 10]\n"
     ]
    }
   ],
   "source": [
    "mask = numbers[numbers>5]\n",
    "print(mask)"
   ]
  },
  {
   "cell_type": "markdown",
   "metadata": {},
   "source": [
    "### Fancy Indexing with np.where()"
   ]
  },
  {
   "cell_type": "code",
   "execution_count": 32,
   "metadata": {},
   "outputs": [
    {
     "name": "stdout",
     "output_type": "stream",
     "text": [
      "[1 3 5]\n",
      "Where_result  (array([5, 6, 7, 8, 9]),)\n",
      "[ 6  7  8  9 10]\n"
     ]
    }
   ],
   "source": [
    "index = [0,2,4]\n",
    "print(numbers[index])\n",
    "where_result = np.where(numbers>5)\n",
    "print(\"Where_result \",where_result)\n",
    "print(numbers[where_result])\n"
   ]
  },
  {
   "cell_type": "markdown",
   "metadata": {},
   "source": [
    "### condition array \n"
   ]
  },
  {
   "cell_type": "code",
   "execution_count": 35,
   "metadata": {},
   "outputs": [
    {
     "name": "stdout",
     "output_type": "stream",
     "text": [
      "[False False False False False  True  True  True  True  True]\n",
      "[ 1  2  3  4  5 12 14 16 18 20]\n"
     ]
    }
   ],
   "source": [
    "bool_array = np.array(numbers>5)\n",
    "print(bool_array)\n",
    "\n",
    "condition_array = np.where(numbers>5 , numbers*2 , numbers ) #It's something like np.where(if(condition) , true , false)\n",
    "print(condition_array)"
   ]
  },
  {
   "cell_type": "markdown",
   "metadata": {},
   "source": [
    "### Adding and removing DATA"
   ]
  },
  {
   "cell_type": "code",
   "execution_count": 40,
   "metadata": {},
   "outputs": [
    {
     "name": "stdout",
     "output_type": "stream",
     "text": [
      "[13 25 37 49 61 73]\n",
      "[ 1  2  3  4  5  6 12 23 34 45 56 67]\n"
     ]
    }
   ],
   "source": [
    "#how to merge two arrays\n",
    "arr1 = np.array([1,2,3,4,5,6])\n",
    "arr2 = np.array([12,23,34,45,56,67])\n",
    "combined = arr1+arr2\n",
    "print(combined)\n",
    "\n",
    "concant = np.concatenate((arr1,arr2))\n",
    "print(concant)\n"
   ]
  },
  {
   "cell_type": "markdown",
   "metadata": {},
   "source": [
    "### Array Compatibility i.e Checking the shapes of the arrays "
   ]
  },
  {
   "cell_type": "markdown",
   "metadata": {},
   "source": [
    "a = np.array([1,2,3])\n",
    "b = np.array([4,5,6 , 7])\n",
    "c = np.array([7,8,9])\n",
    "print(\"Compatibilty Shape:\",a.shape == b.shape)"
   ]
  },
  {
   "cell_type": "markdown",
   "metadata": {},
   "source": [
    "### Adding new Row and new Column to the 2D Array "
   ]
  },
  {
   "cell_type": "code",
   "execution_count": 45,
   "metadata": {},
   "outputs": [
    {
     "name": "stdout",
     "output_type": "stream",
     "text": [
      "[[1 2]\n",
      " [3 4]]\n",
      "[[1 2]\n",
      " [3 4]\n",
      " [5 6]]\n"
     ]
    }
   ],
   "source": [
    "original = np.array([[1,2], [3,4]])\n",
    "new_row = np.array([5,6])\n",
    "with_new_row  = np.vstack((original , new_row))\n",
    "print(original)\n",
    "print(with_new_row)"
   ]
  },
  {
   "cell_type": "code",
   "execution_count": 46,
   "metadata": {},
   "outputs": [
    {
     "name": "stdout",
     "output_type": "stream",
     "text": [
      "[[1 2 2]\n",
      " [3 4 3]]\n"
     ]
    }
   ],
   "source": [
    "new_col  = np.array([[2],[3]])\n",
    "with_new_col = np.hstack((original , new_col))\n",
    "print(with_new_col)\n"
   ]
  },
  {
   "cell_type": "markdown",
   "metadata": {},
   "source": [
    "### Deleting Element in the ARRAY"
   ]
  },
  {
   "cell_type": "code",
   "execution_count": 48,
   "metadata": {},
   "outputs": [
    {
     "name": "stdout",
     "output_type": "stream",
     "text": [
      "Deleted Array : [1 2 3 5]\n"
     ]
    }
   ],
   "source": [
    "arr = np.array([1,2,3,4,5])\n",
    "deleted = np.delete(arr , 3)\n",
    "print(\"Deleted Array :\", deleted)"
   ]
  },
  {
   "cell_type": "code",
   "execution_count": null,
   "metadata": {},
   "outputs": [],
   "source": []
  }
 ],
 "metadata": {
  "kernelspec": {
   "display_name": "Python (venv)",
   "language": "python",
   "name": "myenv"
  },
  "language_info": {
   "codemirror_mode": {
    "name": "ipython",
    "version": 3
   },
   "file_extension": ".py",
   "mimetype": "text/x-python",
   "name": "python",
   "nbconvert_exporter": "python",
   "pygments_lexer": "ipython3",
   "version": "3.13.3"
  }
 },
 "nbformat": 4,
 "nbformat_minor": 2
}
