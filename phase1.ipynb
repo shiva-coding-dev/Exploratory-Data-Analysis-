{
 "cells": [
  {
   "cell_type": "code",
   "execution_count": 1,
   "id": "49012b9a",
   "metadata": {},
   "outputs": [
    {
     "name": "stdout",
     "output_type": "stream",
     "text": [
      "2.3.0\n"
     ]
    }
   ],
   "source": [
    "import numpy as np \n",
    "print(np.__version__)"
   ]
  },
  {
   "cell_type": "code",
   "execution_count": 2,
   "id": "72ed6c6f",
   "metadata": {},
   "outputs": [
    {
     "name": "stdout",
     "output_type": "stream",
     "text": [
      "Array 1 d: [1 2 3 4 5]\n",
      "Array 2d: [[2 3 4 5]\n",
      " [2 3 1 2]]\n"
     ]
    }
   ],
   "source": [
    "arr_1d = np.array([1,2,3,4,5])\n",
    "arr_2d = np.array([[2,3,4,5],[2,3,1,2]])\n",
    "print(\"Array 1 d:\", arr_1d)\n",
    "print(\"Array 2d:\",arr_2d)"
   ]
  },
  {
   "cell_type": "code",
   "execution_count": 3,
   "id": "f7e5b821",
   "metadata": {},
   "outputs": [
    {
     "name": "stdout",
     "output_type": "stream",
     "text": [
      "Python list multiply by 2  [1, 2, 4, 1, 2, 4]\n"
     ]
    }
   ],
   "source": [
    "py_list = [1,2,4]\n",
    "print(\"Python list multiply by 2 \" ,py_list*2)"
   ]
  },
  {
   "cell_type": "code",
   "execution_count": 7,
   "id": "1461543c",
   "metadata": {},
   "outputs": [
    {
     "name": "stdout",
     "output_type": "stream",
     "text": [
      "Array Multiplication by 2  [2 4 8]\n",
      "\n",
      "List multiplication time : 0.05153298377990723\n",
      "\n",
      "Numpy multiplication time : 0.0028629302978515625\n"
     ]
    }
   ],
   "source": [
    "py_array = np.array([1,2,4])\n",
    "print(\"Array Multiplication by 2 \",py_array*2)\n",
    "\n",
    "import time \n",
    "start = time.time()\n",
    "py_list = [i*2 for i in range (1000000)]\n",
    "print(\"\\nList multiplication time :\", time.time() - start)\n",
    "\n",
    "start = time.time()\n",
    "py_array = np.arange(1000000)*2\n",
    "print(\"\\nNumpy multiplication time :\", time.time() - start)\n"
   ]
  },
  {
   "cell_type": "markdown",
   "id": "1e4b57ee",
   "metadata": {},
   "source": [
    "## Creating the Array from scratch"
   ]
  },
  {
   "cell_type": "markdown",
   "id": "403ecfc6",
   "metadata": {},
   "source": [
    "## Creating the Matrix "
   ]
  },
  {
   "cell_type": "code",
   "execution_count": 14,
   "id": "cad8bfa0",
   "metadata": {},
   "outputs": [
    {
     "name": "stdout",
     "output_type": "stream",
     "text": [
      "[[0. 0. 0. 0.]\n",
      " [0. 0. 0. 0.]]\n",
      "[[1. 1. 1. 1. 1.]\n",
      " [1. 1. 1. 1. 1.]\n",
      " [1. 1. 1. 1. 1.]\n",
      " [1. 1. 1. 1. 1.]\n",
      " [1. 1. 1. 1. 1.]]\n",
      "[[8 8 8]\n",
      " [8 8 8]]\n",
      "[[0.20052733 0.20595409 0.924048   0.95126511 0.95979954]\n",
      " [0.76772567 0.15944344 0.42524076 0.25197217 0.99271439]\n",
      " [0.66961788 0.41468351 0.23941396 0.03267056 0.86292104]\n",
      " [0.96374719 0.50962266 0.68984079 0.99535233 0.15732571]]\n",
      "[ 0  2  4  6  8 10]\n"
     ]
    }
   ],
   "source": [
    "#Creating the Matrix with all element as Zero \n",
    "zero = np.zeros((2,4))\n",
    "print(zero)\n",
    "\n",
    "ones = np.ones((5,5))\n",
    "print(ones)\n",
    "\n",
    "full = np.full((2,3) ,8)\n",
    "print(full)\n",
    "\n",
    "#Random \n",
    "ran_mat = np.random.random((4 ,5))\n",
    "\n",
    "print(ran_mat)\n",
    "\n",
    "seq = np.arange(0,11,2)\n",
    "print(seq)\n"
   ]
  },
  {
   "cell_type": "markdown",
   "id": "6995b61d",
   "metadata": {},
   "source": [
    "## Vector Matrices and tensors "
   ]
  },
  {
   "cell_type": "code",
   "execution_count": 15,
   "id": "c13ffdac",
   "metadata": {},
   "outputs": [
    {
     "name": "stdout",
     "output_type": "stream",
     "text": [
      "[ 1  2  3  4  5  6  7  8  9 10 11 12]\n",
      "[[ 1  2  3]\n",
      " [ 4  5  6]\n",
      " [ 7  8  9]\n",
      " [10 11 12]]\n",
      "[ 1  2  3  4  5  6  7  8  9 10 11 12]\n",
      "[ 1  2  3  4  5  6  7  8  9 10 11 12]\n"
     ]
    }
   ],
   "source": [
    "arr = np.array([1,2,3,4,5,6,7,8,9,10,11,12])\n",
    "print(arr)\n",
    "\n",
    "m_arr  = arr.reshape(4,3)\n",
    "print(m_arr)\n",
    "\n",
    "f_arr = m_arr.flatten()\n",
    "print(f_arr)\n",
    "\n",
    "r_arr = m_arr.ravel()\n",
    "print(r_arr)\n"
   ]
  },
  {
   "cell_type": "code",
   "execution_count": null,
   "id": "8b969d66",
   "metadata": {},
   "outputs": [],
   "source": []
  }
 ],
 "metadata": {
  "kernelspec": {
   "display_name": "Python (numpy venv)",
   "language": "python",
   "name": "venv"
  },
  "language_info": {
   "codemirror_mode": {
    "name": "ipython",
    "version": 3
   },
   "file_extension": ".py",
   "mimetype": "text/x-python",
   "name": "python",
   "nbconvert_exporter": "python",
   "pygments_lexer": "ipython3",
   "version": "3.13.3"
  }
 },
 "nbformat": 4,
 "nbformat_minor": 5
}
